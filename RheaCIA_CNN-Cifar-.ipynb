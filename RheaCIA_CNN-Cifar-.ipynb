{
 "cells": [
  {
   "cell_type": "code",
   "execution_count": 1,
   "id": "30b2cf14",
   "metadata": {},
   "outputs": [],
   "source": [
    "import numpy as np\n",
    "import pandas as pd\n",
    "\n",
    "from keras.datasets import cifar10\n",
    "(xtrain, ytrain), (xtest, ytest) = cifar10.load_data()\n",
    "\n",
    "#normalize values from [0,255] to [-0.5,0.5]\n",
    "xtrain = (xtrain / 255.0) - 0.5\n",
    "xtest = (xtest / 255.0) - 0.5"
   ]
  },
  {
   "cell_type": "code",
   "execution_count": 2,
   "id": "edf9684a",
   "metadata": {},
   "outputs": [
    {
     "name": "stdout",
     "output_type": "stream",
     "text": [
      "(50000, 32, 32, 3)\n",
      "(32, 32, 3)\n"
     ]
    }
   ],
   "source": [
    "print(xtrain.shape) #no.if images AND input shape (32x32x3)\n",
    "print(xtrain[0].shape)"
   ]
  },
  {
   "cell_type": "code",
   "execution_count": 3,
   "id": "6fc348fc",
   "metadata": {},
   "outputs": [],
   "source": [
    "from keras.models import Sequential\n",
    "from keras.layers import Conv2D, MaxPooling2D, Dense, Flatten\n",
    "\n",
    "model = Sequential([\n",
    "Conv2D(32, (3, 3), activation='relu', input_shape=(32, 32, 3)),\n",
    "MaxPooling2D((2, 2)),\n",
    "Conv2D(64, (3, 3), activation='relu'),\n",
    "MaxPooling2D((2, 2)),\n",
    "Conv2D(64, (3, 3), activation='relu'),\n",
    "MaxPooling2D((2, 2)),\n",
    "Flatten(),\n",
    "Dense(64, activation='relu'),\n",
    "Dense(10,activation='softmax')\n",
    "])"
   ]
  },
  {
   "cell_type": "code",
   "execution_count": 4,
   "id": "993a403f",
   "metadata": {},
   "outputs": [
    {
     "name": "stdout",
     "output_type": "stream",
     "text": [
      "Epoch 1/10\n",
      "1563/1563 [==============================] - 34s 21ms/step - loss: 1.4865 - accuracy: 0.4604 - val_loss: 1.2343 - val_accuracy: 0.5603\n",
      "Epoch 2/10\n",
      "1563/1563 [==============================] - 32s 20ms/step - loss: 1.1168 - accuracy: 0.6066 - val_loss: 1.0678 - val_accuracy: 0.6289\n",
      "Epoch 3/10\n",
      "1563/1563 [==============================] - 32s 20ms/step - loss: 0.9614 - accuracy: 0.6634 - val_loss: 0.9512 - val_accuracy: 0.6681\n",
      "Epoch 4/10\n",
      "1563/1563 [==============================] - 31s 20ms/step - loss: 0.8607 - accuracy: 0.7001 - val_loss: 0.9170 - val_accuracy: 0.6747\n",
      "Epoch 5/10\n",
      "1563/1563 [==============================] - 32s 21ms/step - loss: 0.7831 - accuracy: 0.7259 - val_loss: 0.8917 - val_accuracy: 0.6924\n",
      "Epoch 6/10\n",
      "1563/1563 [==============================] - 32s 21ms/step - loss: 0.7207 - accuracy: 0.7480 - val_loss: 0.8651 - val_accuracy: 0.7067\n",
      "Epoch 7/10\n",
      "1563/1563 [==============================] - 33s 21ms/step - loss: 0.6653 - accuracy: 0.7672 - val_loss: 0.8439 - val_accuracy: 0.7108\n",
      "Epoch 8/10\n",
      "1563/1563 [==============================] - 33s 21ms/step - loss: 0.6215 - accuracy: 0.7809 - val_loss: 0.8177 - val_accuracy: 0.7254\n",
      "Epoch 9/10\n",
      "1563/1563 [==============================] - 34s 21ms/step - loss: 0.5858 - accuracy: 0.7950 - val_loss: 0.8339 - val_accuracy: 0.7200\n",
      "Epoch 10/10\n",
      "1563/1563 [==============================] - 35s 22ms/step - loss: 0.5501 - accuracy: 0.8068 - val_loss: 0.8327 - val_accuracy: 0.7173\n"
     ]
    }
   ],
   "source": [
    "model.compile(optimizer='adam',loss='categorical_crossentropy',metrics=['accuracy'])\n",
    "\n",
    "from keras.utils import to_categorical\n",
    "evaluation = model.fit(xtrain,to_categorical(ytrain), epochs=10, validation_data= (xtest, to_categorical(ytest)))"
   ]
  },
  {
   "cell_type": "code",
   "execution_count": 5,
   "id": "343fb718",
   "metadata": {},
   "outputs": [
    {
     "name": "stdout",
     "output_type": "stream",
     "text": [
      "1/1 [==============================] - 0s 105ms/step\n",
      "[3 1 8 0 6 6 9 2 3 1]\n"
     ]
    }
   ],
   "source": [
    "cnn = model.predict(xtest[:10])\n",
    "print(np.argmax(cnn,axis=1))"
   ]
  },
  {
   "cell_type": "code",
   "execution_count": 6,
   "id": "bb9667bd",
   "metadata": {},
   "outputs": [
    {
     "name": "stdout",
     "output_type": "stream",
     "text": [
      "[[3]\n",
      " [8]\n",
      " [8]\n",
      " [0]\n",
      " [6]\n",
      " [6]\n",
      " [1]\n",
      " [6]\n",
      " [3]\n",
      " [1]]\n"
     ]
    }
   ],
   "source": [
    "print(ytest[:10])"
   ]
  },
  {
   "cell_type": "code",
   "execution_count": 7,
   "id": "e18f8c3e",
   "metadata": {},
   "outputs": [
    {
     "name": "stdout",
     "output_type": "stream",
     "text": [
      "Evaluate on test data\n",
      "79/79 [==============================] - 1s 18ms/step - loss: 0.8327 - accuracy: 0.7173\n",
      "test loss, test acc: [0.8326870203018188, 0.7172999978065491]\n"
     ]
    }
   ],
   "source": [
    "# Evaluate on Validation data\n",
    "print(\"Evaluate on test data\")\n",
    "results = model.evaluate(xtest, to_categorical(ytest), batch_size=128)\n",
    "print(\"test loss, test acc:\", results)"
   ]
  },
  {
   "cell_type": "code",
   "execution_count": null,
   "id": "1ac578de",
   "metadata": {},
   "outputs": [],
   "source": []
  }
 ],
 "metadata": {
  "kernelspec": {
   "display_name": "Python 3 (ipykernel)",
   "language": "python",
   "name": "python3"
  },
  "language_info": {
   "codemirror_mode": {
    "name": "ipython",
    "version": 3
   },
   "file_extension": ".py",
   "mimetype": "text/x-python",
   "name": "python",
   "nbconvert_exporter": "python",
   "pygments_lexer": "ipython3",
   "version": "3.9.7"
  }
 },
 "nbformat": 4,
 "nbformat_minor": 5
}
